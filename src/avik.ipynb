{
 "metadata": {
  "name": "",
  "signature": "sha256:34c373dfd8eebf0549487b110c296897e14b915d79aa738cbd3a95fc6c9a93d3"
 },
 "nbformat": 3,
 "nbformat_minor": 0,
 "worksheets": [
  {
   "cells": [
    {
     "cell_type": "code",
     "collapsed": false,
     "input": [
      "import sys\n",
      "import os\n",
      "import glob\n",
      "import string\n",
      "import re\n",
      "import math\n",
      "import json\n",
      "import gzip\n",
      "import itertools\n",
      "import pprint\n",
      "\n",
      "import datetime as dt\n",
      "import numpy as np\n",
      "import pandas as pd\n",
      "\n",
      "DataFrameType = type(pd.DataFrame([]))\n",
      "\n",
      "from collections import deque, Counter\n",
      "\n",
      "kivadir = \"../../\"\n",
      "loanFilePaths = glob.glob(kivadir+\"loans/*.json\")\n",
      "lenderFilePaths = glob.glob(kivadir+\"lenders/*.json\")\n",
      "\n",
      "def randomElement(ell):\n",
      "    assert type(ell) == list, \"I only know how to return random elements of a LIST!\"\n",
      "    assert ell != [], \"How can I return an element of an EMPTY list?\"\n",
      "    \n",
      "    return ell[np.random.randint(len(ell))]"
     ],
     "language": "python",
     "metadata": {},
     "outputs": [],
     "prompt_number": 1
    },
    {
     "cell_type": "code",
     "collapsed": false,
     "input": [
      "def AssertsLoan(data):\n",
      "    assert type(data) == dict, \"JSON Loan data must be stored in a dictionary!\"\n",
      "    assert set(['id','posted_date','loan_amount','sector','activity','description','location']) < set(data.keys()), \"\"\"'id','posted_date','loan_amount','sector','activity','description','location' must be in the set of keys! \"\"\"\n",
      "    \n",
      "def GrabRandomLoan(loanFilePaths):\n",
      "    with open(randomElement(loanFilePaths)) as f:\n",
      "        jf = json.load(f)\n",
      "    return randomElement(jf['loans'])\n",
      "\n",
      "def LoanText(jl):\n",
      "    AssertsLoan(jl)\n",
      "    return (str(jl['location']) + \" \" + jl['sector'] + \" \" + jl['activity'] + \" \" + str(jl['description'])).lower()\n",
      "\n",
      "def documentLoan(jl):\n",
      "    AssertsLoan(jl)\n",
      "    iim = {}\n",
      "    iim[jl['id']] = Counter(re.findall(r'\\w+',LoanText(jl)))\n",
      "    frame = pd.DataFrame(iim).unstack().reset_index()\n",
      "    frame.columns = ['loanid','term','frequency']\n",
      "    return frame\n",
      "\n",
      "def TFIDF(iim):\n",
      "    N = iim.loanid.value_counts().index.size #the number of unique documents\n",
      "    tmp = iim['term'].value_counts().reset_index() #for each term t, keep track of how many documents d in which it occurs\n",
      "    tmp.columns = ['term','documentFrequency']\n",
      "    iim = pd.merge(iim, tmp, how='inner',on='term')\n",
      "    iim['inverseDocumentFrequency'] = np.log(float(N) / iim['documentFrequency'])\n",
      "    iim['termFrequency'] = 1 + np.log(iim['frequency'])\n",
      "    iim['tfidf'] = iim['termFrequency'] * iim['inverseDocumentFrequency']\n",
      "    iim = iim.sort('tfidf',ascending=False)\n",
      "    return iim\n",
      "\n",
      "def L2Norm(df):\n",
      "    assert type(df) == DataFrameType, \"Must be a dataframe!\"\n",
      "    assert 'tfidf' in df.columns, \"Must have a tfidf column!\"\n",
      "    return np.sqrt(sum((df.tfidf)**2))"
     ],
     "language": "python",
     "metadata": {},
     "outputs": [],
     "prompt_number": 2
    },
    {
     "cell_type": "code",
     "collapsed": false,
     "input": [
      "loanFilePaths[0]"
     ],
     "language": "python",
     "metadata": {},
     "outputs": [
      {
       "metadata": {},
       "output_type": "pyout",
       "prompt_number": 3,
       "text": [
        "'../../loans/1.json'"
       ]
      }
     ],
     "prompt_number": 3
    },
    {
     "cell_type": "code",
     "collapsed": false,
     "input": [
      "%time frame = pd.concat([documentLoan(GrabRandomLoan(loanFilePaths)) for i in xrange(10)])"
     ],
     "language": "python",
     "metadata": {},
     "outputs": [
      {
       "output_type": "stream",
       "stream": "stdout",
       "text": [
        "CPU times: user 1.2 s, sys: 78.2 ms, total: 1.28 s\n",
        "Wall time: 4.41 s\n"
       ]
      }
     ],
     "prompt_number": 4
    },
    {
     "cell_type": "code",
     "collapsed": false,
     "input": [
      "print frame.describe()\n",
      "print frame.head()"
     ],
     "language": "python",
     "metadata": {},
     "outputs": [
      {
       "output_type": "stream",
       "stream": "stdout",
       "text": [
        "              loanid    frequency\n",
        "count    1838.000000  1838.000000\n",
        "mean   280618.303591     1.871600\n",
        "std    140579.808557     2.522376\n",
        "min     38058.000000     1.000000\n",
        "25%    214206.000000     1.000000\n",
        "50%    238481.000000     1.000000\n",
        "75%    429299.000000     2.000000\n",
        "max    539670.000000    28.000000\n",
        "   loanid term  frequency\n",
        "0  214206  000          2\n",
        "1  214206    1          2\n",
        "2  214206   14          2\n",
        "3  214206   16          2\n",
        "4  214206   18          2\n"
       ]
      }
     ],
     "prompt_number": 5
    },
    {
     "cell_type": "code",
     "collapsed": false,
     "input": [
      "frame = TFIDF(frame)\n",
      "def cosim(a,b):\n",
      "    frameA, frameB = frame[frame.loanid == a][['term','tfidf']],frame[frame.loanid == b][['term','tfidf']]\n",
      "    df = pd.merge(frameA,frameB,on='term',how='inner')\n",
      "    na,nb = L2Norm(frameA),L2Norm(frameB)\n",
      "    if na * nb > 0:\n",
      "        return sum(df.tfidf_x * df.tfidf_y) / (na * nb)\n",
      "    else:\n",
      "        return 0.0"
     ],
     "language": "python",
     "metadata": {},
     "outputs": [],
     "prompt_number": 6
    },
    {
     "cell_type": "code",
     "collapsed": false,
     "input": [
      "frame[['term','tfidf']].groupby('term').mean().reset_index().sort('tfidf').tail(10)"
     ],
     "language": "python",
     "metadata": {},
     "outputs": [
      {
       "html": [
        "<div style=\"max-height:1000px;max-width:1500px;overflow:auto;\">\n",
        "<table border=\"1\" class=\"dataframe\">\n",
        "  <thead>\n",
        "    <tr style=\"text-align: right;\">\n",
        "      <th></th>\n",
        "      <th>term</th>\n",
        "      <th>tfidf</th>\n",
        "    </tr>\n",
        "  </thead>\n",
        "  <tbody>\n",
        "    <tr>\n",
        "      <th>1041</th>\n",
        "      <td>   washing</td>\n",
        "      <td> 5.494646</td>\n",
        "    </tr>\n",
        "    <tr>\n",
        "      <th>173 </th>\n",
        "      <td>   chelita</td>\n",
        "      <td> 5.494646</td>\n",
        "    </tr>\n",
        "    <tr>\n",
        "      <th>542 </th>\n",
        "      <td>     linda</td>\n",
        "      <td> 5.494646</td>\n",
        "    </tr>\n",
        "    <tr>\n",
        "      <th>848 </th>\n",
        "      <td>  rickshaw</td>\n",
        "      <td> 5.494646</td>\n",
        "    </tr>\n",
        "    <tr>\n",
        "      <th>631 </th>\n",
        "      <td>     nazia</td>\n",
        "      <td> 5.494646</td>\n",
        "    </tr>\n",
        "    <tr>\n",
        "      <th>564 </th>\n",
        "      <td>  machines</td>\n",
        "      <td> 6.008453</td>\n",
        "    </tr>\n",
        "    <tr>\n",
        "      <th>291 </th>\n",
        "      <td> dungganon</td>\n",
        "      <td> 6.008453</td>\n",
        "    </tr>\n",
        "    <tr>\n",
        "      <th>411 </th>\n",
        "      <td>      gran</td>\n",
        "      <td> 6.008453</td>\n",
        "    </tr>\n",
        "    <tr>\n",
        "      <th>471 </th>\n",
        "      <td>  humberto</td>\n",
        "      <td> 6.008453</td>\n",
        "    </tr>\n",
        "    <tr>\n",
        "      <th>1094</th>\n",
        "      <td>       xf3</td>\n",
        "      <td> 7.090676</td>\n",
        "    </tr>\n",
        "  </tbody>\n",
        "</table>\n",
        "</div>"
       ],
       "metadata": {},
       "output_type": "pyout",
       "prompt_number": 7,
       "text": [
        "           term     tfidf\n",
        "1041    washing  5.494646\n",
        "173     chelita  5.494646\n",
        "542       linda  5.494646\n",
        "848    rickshaw  5.494646\n",
        "631       nazia  5.494646\n",
        "564    machines  6.008453\n",
        "291   dungganon  6.008453\n",
        "411        gran  6.008453\n",
        "471    humberto  6.008453\n",
        "1094        xf3  7.090676"
       ]
      }
     ],
     "prompt_number": 7
    },
    {
     "cell_type": "code",
     "collapsed": false,
     "input": [
      "with pd.get_store('KIVA.h5') as h:\n",
      "    h['tfidf'] = frame"
     ],
     "language": "python",
     "metadata": {},
     "outputs": []
    },
    {
     "cell_type": "code",
     "collapsed": false,
     "input": [
      "def IndexLoans():\n",
      "    triples = []\n",
      "    for lfp in loanFilePaths:\n",
      "        with open(lfp) as f:\n",
      "            jf = json.load(f)\n",
      "        for k, loan in enumerate(jf['loans']):\n",
      "            useit = (type(loan) == dict) and (set(['id','posted_date','loan_amount','sector','activity','description','location']) < set(loan.keys()))\n",
      "            triples.append((lfp,k,loan['id'],useit))\n",
      "    return pd.DataFrame(triples,columns=['filepath','loanindex','loanid','isUsable'])"
     ],
     "language": "python",
     "metadata": {},
     "outputs": [],
     "prompt_number": 8
    },
    {
     "cell_type": "code",
     "collapsed": false,
     "input": [
      "%time LoanIndex = IndexLoans()"
     ],
     "language": "python",
     "metadata": {},
     "outputs": []
    },
    {
     "cell_type": "code",
     "collapsed": false,
     "input": [
      "LoanIndex.sort('loanid').tail()"
     ],
     "language": "python",
     "metadata": {},
     "outputs": []
    },
    {
     "cell_type": "code",
     "collapsed": false,
     "input": [
      "with pd.get_store('KIVA.h5') as h:\n",
      "    h['LoanIndex'] = LoanIndex"
     ],
     "language": "python",
     "metadata": {},
     "outputs": []
    },
    {
     "cell_type": "code",
     "collapsed": false,
     "input": [],
     "language": "python",
     "metadata": {},
     "outputs": []
    }
   ],
   "metadata": {}
  }
 ]
}